{
 "metadata": {
  "language_info": {
   "codemirror_mode": {
    "name": "ipython",
    "version": 3
   },
   "file_extension": ".py",
   "mimetype": "text/x-python",
   "name": "python",
   "nbconvert_exporter": "python",
   "pygments_lexer": "ipython3",
   "version": "3.8.2-final"
  },
  "orig_nbformat": 2,
  "kernelspec": {
   "name": "python3",
   "display_name": "Python 3.8.2 64-bit ('venv': venv)",
   "metadata": {
    "interpreter": {
     "hash": "36042eba15b48eaf9ceb728498df7fc9fa936a6f789927dc71a6ba431532b2bd"
    }
   }
  }
 },
 "nbformat": 4,
 "nbformat_minor": 2,
 "cells": [
  {
   "cell_type": "code",
   "execution_count": 63,
   "metadata": {},
   "outputs": [],
   "source": [
    "import telegram"
   ]
  },
  {
   "cell_type": "code",
   "execution_count": 68,
   "metadata": {},
   "outputs": [],
   "source": [
    "token = \"\""
   ]
  },
  {
   "cell_type": "code",
   "execution_count": 69,
   "metadata": {},
   "outputs": [],
   "source": [
    "bot = telegram.Bot(token = token)"
   ]
  },
  {
   "cell_type": "code",
   "execution_count": 76,
   "metadata": {},
   "outputs": [],
   "source": [
    "updates = bot.getUpdates(offset=417305140, timeout=10)"
   ]
  },
  {
   "cell_type": "code",
   "execution_count": 77,
   "metadata": {},
   "outputs": [
    {
     "output_type": "stream",
     "name": "stdout",
     "text": [
      "{'update_id': 417305143, 'message': {'message_id': 242, 'date': 1611919300, 'chat': {'id': 570805079, 'type': 'private', 'username': 'nerdfashionboy', 'first_name': 'Pete', 'last_name': 'Lee'}, 'text': 'ㅇ', 'entities': [], 'caption_entities': [], 'photo': [], 'new_chat_members': [], 'new_chat_photo': [], 'delete_chat_photo': False, 'group_chat_created': False, 'supergroup_chat_created': False, 'channel_chat_created': False, 'from': {'id': 570805079, 'first_name': 'Pete', 'is_bot': False, 'last_name': 'Lee', 'username': 'nerdfashionboy', 'language_code': 'ko'}}}\n"
     ]
    }
   ],
   "source": [
    "for u in updates:\n",
    "    print(u)"
   ]
  },
  {
   "cell_type": "code",
   "execution_count": 60,
   "metadata": {},
   "outputs": [
    {
     "output_type": "stream",
     "name": "stdout",
     "text": [
      "{'update_id': 417305137, 'message': {'message_id': 235, 'date': 1611919164, 'chat': {'id': 570805079, 'type': 'private', 'username': 'nerdfashionboy', 'first_name': 'Pete', 'last_name': 'Lee'}, 'text': '김대중', 'entities': [], 'caption_entities': [], 'photo': [], 'new_chat_members': [], 'new_chat_photo': [], 'delete_chat_photo': False, 'group_chat_created': False, 'supergroup_chat_created': False, 'channel_chat_created': False, 'from': {'id': 570805079, 'first_name': 'Pete', 'is_bot': False, 'last_name': 'Lee', 'username': 'nerdfashionboy', 'language_code': 'ko'}}}\n"
     ]
    }
   ],
   "source": [
    "for u in updates:\n",
    "    print(u)\n",
    "    # print(u.message.chat.id)\n",
    "    bot.sendMessage(chat_id = u.message.chat.id, text=u.message.text)"
   ]
  },
  {
   "cell_type": "code",
   "execution_count": 47,
   "metadata": {},
   "outputs": [
    {
     "output_type": "execute_result",
     "data": {
      "text/plain": [
       "28"
      ]
     },
     "metadata": {},
     "execution_count": 47
    }
   ],
   "source": [
    "len(updates)"
   ]
  },
  {
   "cell_type": "code",
   "execution_count": null,
   "metadata": {},
   "outputs": [],
   "source": []
  }
 ]
}